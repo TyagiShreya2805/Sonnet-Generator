{
 "cells": [
  {
   "cell_type": "code",
   "execution_count": null,
   "metadata": {},
   "outputs": [],
   "source": [
    "input_file = 'dataset.txt'\n",
    "input_file1 = 'dataset2.txt'\n"
   ]
  },
  {
   "cell_type": "code",
   "execution_count": null,
   "metadata": {},
   "outputs": [],
   "source": [
    "with open(input_file,encoding='utf-8') as file: # This will automatically close the file \n",
    "    print (file.read(1000))"
   ]
  },
  {
   "cell_type": "code",
   "execution_count": null,
   "metadata": {
    "scrolled": true
   },
   "outputs": [],
   "source": [
    "with open(input_file1,encoding='utf-8') as file: # This will automatically close the file \n",
    "    print (file.read(1000))"
   ]
  },
  {
   "cell_type": "code",
   "execution_count": null,
   "metadata": {},
   "outputs": [],
   "source": [
    "import numpy as np\n",
    "from matplotlib import pyplot as plt\n",
    "%matplotlib inline\n",
    "def plotWordFrequency(input):\n",
    "    file = open(input_file,'r',encoding='utf-8')\n",
    "    word = [x for y in [l.split() for l in file.readlines()] for x in y]\n",
    "    d = sorted([(w, word.count(w)) for w in set(word)], key = lambda x:x[1], reverse=True)[:40] \n",
    "    words = [x[0] for x in d]\n",
    "    used = [int(x[1]) for x in d]\n",
    "    plt.figure(figsize=(20,10))\n",
    "    plt.bar(x=sorted(words), height=used, color = 'grey', edgecolor = 'black',  width=.5)\n",
    "    plt.xticks(rotation=45, fontsize=18)\n",
    "    plt.yticks(rotation=0, fontsize=18)\n",
    "    plt.xlabel('Most Common Words:', fontsize=18)\n",
    "    plt.ylabel('Number of Occurences:', fontsize=18)\n",
    "    plt.title('Most Commonly Used Words: %s' % (input_file), fontsize=24)\n",
    "    plt.show()"
   ]
  },
  {
   "cell_type": "code",
   "execution_count": null,
   "metadata": {},
   "outputs": [],
   "source": [
    "plotWordFrequency(input_file) # plotting the word frequency of dataset 1"
   ]
  },
  {
   "cell_type": "code",
   "execution_count": null,
   "metadata": {},
   "outputs": [],
   "source": [
    "plotWordFrequency(input_file1) # plotting the word frequency of dataset 2"
   ]
  },
  {
   "cell_type": "code",
   "execution_count": null,
   "metadata": {
    "scrolled": true
   },
   "outputs": [],
   "source": [
    "import pronouncing\n",
    "import markovify\n",
    "import re\n",
    "import random\n",
    "import numpy as np\n",
    "import os\n",
    "import keras\n",
    "from keras.models import Sequential\n",
    "from keras.layers import LSTM \n",
    "from keras.layers.core import Dense"
   ]
  },
  {
   "cell_type": "code",
   "execution_count": null,
   "metadata": {},
   "outputs": [],
   "source": [
    "def create_network(depth):\n",
    "    model = Sequential()\n",
    "    model.add(LSTM(4, input_shape=(2, 2), return_sequences=True))\n",
    "    for i in range(depth):\n",
    "        model.add(LSTM(8, return_sequences=True))\n",
    "    model.add(LSTM(2, return_sequences=True))\n",
    "    model.summary()\n",
    "    model.compile(optimizer='rmsprop',\n",
    "              loss='mse')\n",
    "    if artist + \".rap\" in os.listdir(\".\") and train_mode == False:\n",
    "        model.load_weights(str(artist + \".rap\"))\n",
    "        print(\"loading saved network: \" + str(artist) + \".rap\") \n",
    "    return model"
   ]
  },
  {
   "cell_type": "code",
   "execution_count": null,
   "metadata": {},
   "outputs": [],
   "source": [
    "def markov(text_file):\n",
    "    ######\n",
    "    file = open(input_file, \"r\", encoding='utf-8').read()\n",
    "    text = markovify.NewlineText(file,well_formed=False)\n",
    "    return text"
   ]
  },
  {
   "cell_type": "code",
   "execution_count": null,
   "metadata": {},
   "outputs": [],
   "source": [
    "def syllables(line):\n",
    "    c = 0\n",
    "    for w in line.split(\"[\\s|,]\"):\n",
    "        v = 'aeiou'\n",
    "        w = w.lower().strip(\"!@#$%^&*()_+-={}[];:,.<>/?\\\"\\'\")\n",
    "       # word = word.lower().strip(\".:;?!\")\n",
    "        if w[0] in v:\n",
    "            c +=1\n",
    "        for index in range(1,len(w)):\n",
    "            if w[index] in v and w[index-1] not in v:\n",
    "                c +=1\n",
    "        if w.endswith('e'):\n",
    "            c -= 1\n",
    "        if w.endswith('le'):\n",
    "            c+=1\n",
    "        if c == 0:\n",
    "            c +=1\n",
    "    return c / maxsyllables"
   ]
  },
  {
   "cell_type": "code",
   "execution_count": null,
   "metadata": {},
   "outputs": [],
   "source": [
    "def rhymeindex(lyrics):\n",
    "    if str(artist) + \".rhymes\" in os.listdir(\".\") and train_mode == False:\n",
    "        print (\"loading saved rhymes from \" + str(artist) + \".rhymes\")\n",
    "        return open(str(artist) + \".rhymes\", \"r\",encoding='utf-8').read().split(\"\\n\")\n",
    "    else:\n",
    "        rhyme_master_list = []\n",
    "        print (\"Building list of rhymes:\")\n",
    "        for i in lyrics:\n",
    "            w = re.sub(r\"\\W+\", '', i.split(\" \")[-1]).lower()\n",
    "            rhymeslist = pronouncing.rhymes(w)\n",
    "            rhymeslistends = []      \n",
    "            for i in rhymeslist:\n",
    "                rhymeslistends.append(i[-2:])\n",
    "            try:\n",
    "                rhymescheme = max(set(rhymeslistends), key=rhymeslistends.c)\n",
    "            except Exception:\n",
    "                rhymescheme = w[-2:]\n",
    "            rhyme_master_list.append(rhymescheme)\n",
    "        rhyme_master_list = list(set(rhyme_master_list))\n",
    "        reverselist = [x[::-1] for x in rhyme_master_list]\n",
    "        reverselist = sorted(reverselist)\n",
    "        rhymelist = [x[::-1] for x in reverselist]\n",
    "        print(\"List of Sorted 2-Letter Rhyme Ends:\")\n",
    "        print(rhymelist)\n",
    "        f = open(str(artist) + \".rhymes\", \"w\", encoding='utf-8')\n",
    "        f.write(\"\\n\".join(rhymelist))\n",
    "        f.close()\n",
    "        return rhymelist"
   ]
  },
  {
   "cell_type": "code",
   "execution_count": null,
   "metadata": {},
   "outputs": [],
   "source": [
    "def rhyme(line, rhyme_list):\n",
    "    w = re.sub(r\"\\W+\", '', line.split(\" \")[-1]).lower()\n",
    "    rhymeslist = pronouncing.rhymes(w)\n",
    "    rhymeslistends = []\n",
    "    for i in rhymeslist:\n",
    "        rhymeslistends.append(i[-2:])\n",
    "    try:\n",
    "        rhymescheme = max(set(rhymeslistends), key=rhymeslistends.count)\n",
    "    except Exception:\n",
    "        rhymescheme = w[-2:]\n",
    "    try:\n",
    "        float_rhyme = rhyme_list.index(rhymescheme)\n",
    "        float_rhyme = float_rhyme / float(len(rhyme_list))\n",
    "        return float_rhyme\n",
    "    except Exception:\n",
    "        float_rhyme = None\n",
    "        return float_rhyme"
   ]
  },
  {
   "cell_type": "code",
   "execution_count": null,
   "metadata": {},
   "outputs": [],
   "source": [
    "def split_lyrics_file(text_file):\n",
    "    text = open(text_file, encoding='utf-8').read()\n",
    "    text = text.split(\"\\n\")\n",
    "    while \"\" in text:\n",
    "        text.remove(\"\")\n",
    "    return text"
   ]
  },
  {
   "cell_type": "code",
   "execution_count": null,
   "metadata": {},
   "outputs": [],
   "source": [
    "def generate_lyrics(text_model, text_file):\n",
    "    bars = []\n",
    "    last_words = []\n",
    "    lyriclength = len(open(text_file,encoding='utf-8').read().split(\"\\n\"))\n",
    "    c = 0\n",
    "    markov_model = markov(text_file)\n",
    "    \n",
    "    while len(bars) < lyriclength / 9 and c < lyriclength * 2:\n",
    "        bar = markov_model.make_sentence(max_overlap_ratio = .49, tries=100)\n",
    "        if type(bar) != type(None) and syllables(bar) < 1:\n",
    "            def get_last_word(bar):\n",
    "                last_word = bar.split(\" \")[-1]\n",
    "                if last_word[-1] in \"!.?,\":\n",
    "                    last_word = last_word[:-1]\n",
    "                return last_word\n",
    "            last_word = get_last_word(bar)\n",
    "            if bar not in bars and last_words.count(last_word) < 3:\n",
    "                bars.append(bar)\n",
    "                last_words.append(last_word)\n",
    "                c += 1\n",
    "    return bars"
   ]
  },
  {
   "cell_type": "code",
   "execution_count": null,
   "metadata": {},
   "outputs": [],
   "source": [
    "def build_dataset(lines, rhyme_list):\n",
    "    dataset = []\n",
    "    line_list = []\n",
    "    for line in lines:\n",
    "        line_list = [line, syllables(line), rhyme(line, rhyme_list)]\n",
    "        dataset.append(line_list)\n",
    "    x_data = []\n",
    "    y_data = []\n",
    "    for i in range(len(dataset) - 3):\n",
    "        line1 = dataset[i    ][1:]\n",
    "        line2 = dataset[i + 1][1:]\n",
    "        line3 = dataset[i + 2][1:]\n",
    "        line4 = dataset[i + 3][1:]\n",
    "        x = [line1[0], line1[1], line2[0], line2[1]]\n",
    "        x = np.array(x)\n",
    "        x = x.reshape(2,2)\n",
    "        x_data.append(x)\n",
    "        y = [line3[0], line3[1], line4[0], line4[1]]\n",
    "        y = np.array(y)\n",
    "        y = y.reshape(2,2)\n",
    "        y_data.append(y)\n",
    "    x_data = np.array(x_data)\n",
    "    y_data = np.array(y_data)\n",
    "    return x_data, y_data"
   ]
  },
  {
   "cell_type": "code",
   "execution_count": null,
   "metadata": {},
   "outputs": [],
   "source": [
    "def compose_rap(lines, rhyme_list, lyrics_file, model):\n",
    "    rap_vectors = []\n",
    "    human_lyrics = split_lyrics_file(lyrics_file)\n",
    "    initial_index = random.choice(range(len(human_lyrics) - 1))\n",
    "    initial_lines = human_lyrics[initial_index:initial_index + 2]\n",
    "    starting_input = []\n",
    "    for line in initial_lines:\n",
    "        starting_input.append([syllables(line), rhyme(line, rhyme_list)])\n",
    "    starting_vectors = model.predict(np.array([starting_input]).flatten().reshape(1, 2, 2))\n",
    "    rap_vectors.append(starting_vectors)\n",
    "    for i in range(100):\n",
    "        rap_vectors.append(model.predict(np.array([rap_vectors[-1]]).flatten().reshape(1, 2, 2)))\n",
    "    return rap_vectors"
   ]
  },
  {
   "cell_type": "code",
   "execution_count": null,
   "metadata": {},
   "outputs": [],
   "source": [
    "def vectors_into_song(vectors, generated_lyrics, rhyme_list):\n",
    "    print (\"\\n\\n\")\t\n",
    "    print (\"Writing verse:\")\n",
    "    print (\"\\n\\n\")\n",
    "    def last_word_compare(rap, line2):\n",
    "        penalty = 0 \n",
    "        for line1 in rap:\n",
    "            w1 = line1.split(\" \")[-1]\n",
    "            w2 = line2.split(\" \")[-1]\n",
    "            while w1[-1] in \"?!,. \":\n",
    "                w1 = w1[:-1]\n",
    "            while w2[-1] in \"?!,. \":\n",
    "                w2 = w2[:-1]\n",
    "            if w1 == w2:\n",
    "                penalty += 0.2\n",
    "        return penalty\n",
    "    def calculate_score(vector_half, syllables, rhyme, penalty):\n",
    "        desired_syllables = vector_half[0]\n",
    "        desired_rhyme = vector_half[1]\n",
    "        desired_syllables = desired_syllables * maxsyllables\n",
    "        desired_rhyme = desired_rhyme * len(rhyme_list)\n",
    "        score = 1.0 - abs(float(desired_syllables) - float(syllables)) + abs(float(desired_rhyme) - float(rhyme)) - penalty\n",
    "        return score\n",
    "    dataset = []\n",
    "    for line in generated_lyrics:\n",
    "        line_list = [line, syllables(line), rhyme(line, rhyme_list)]\n",
    "        dataset.append(line_list)\n",
    "    rap = []\n",
    "    vector_halves = []\n",
    "    for vector in vectors:\n",
    "        vector_halves.append(list(vector[0][0])) \n",
    "        vector_halves.append(list(vector[0][1]))\n",
    "    for vector in vector_halves:\n",
    "        scorelist = []\n",
    "        for item in dataset:\n",
    "            line = item[0]\n",
    "            if len(rap) != 0:\n",
    "                penalty = last_word_compare(rap, line)\n",
    "            else:\n",
    "                penalty = 0\n",
    "            total_score = calculate_score(vector, item[1], item[2], penalty)\n",
    "            score_entry = [line, total_score]\n",
    "            scorelist.append(score_entry)\n",
    "        fixed_score_list = [0]\n",
    "        for score in scorelist:\n",
    "            fixed_score_list.append(float(score[1]))\n",
    "        max_score = max(fixed_score_list)\n",
    "        for item in scorelist:\n",
    "            if item[1] == max_score:\n",
    "                rap.append(item[0])\n",
    "                print (str(item[0]))\n",
    "                for i in dataset:\n",
    "                    if item[0] == i[0]:\n",
    "                        dataset.remove(i)\n",
    "                        break\n",
    "                break     \n",
    "    return rap"
   ]
  },
  {
   "cell_type": "code",
   "execution_count": null,
   "metadata": {},
   "outputs": [],
   "source": [
    "def train(x_data, y_data, model):\n",
    "    model.fit(np.array(x_data), np.array(y_data),\n",
    "              batch_size=2,\n",
    "              epochs=5,\n",
    "              verbose=1)\n",
    "    model.save_weights(artist + \".rap\")\n"
   ]
  },
  {
   "cell_type": "code",
   "execution_count": null,
   "metadata": {},
   "outputs": [],
   "source": [
    "def main(depth, train_mode):\n",
    "    model = create_network(depth)\n",
    "    text_model = markov(text_file)\n",
    "    if train_mode == True:\n",
    "        bars = split_lyrics_file(text_file)\n",
    "    if train_mode == False:\n",
    "        bars = generate_lyrics(text_model, text_file)\n",
    "        vectors = compose_rap(bars, rhyme_list, text_file, model)\n",
    "        rap = vectors_into_song(vectors, bars, rhyme_list)\n",
    "        f = open(rap_file, \"w\", encoding='utf-8')\n",
    "        for bar in rap:\n",
    "            f.write(bar)\n",
    "            f.write(\"\\n\")"
   ]
  },
  {
   "cell_type": "code",
   "execution_count": null,
   "metadata": {},
   "outputs": [],
   "source": [
    "depth = 4 \n",
    "maxsyllables = 8\n",
    "artist = \"artist\"\n",
    "rap_file = \"temporary_poem.txt\""
   ]
  },
  {
   "cell_type": "code",
   "execution_count": null,
   "metadata": {
    "scrolled": true
   },
   "outputs": [],
   "source": [
    "maxsyllables = 8\n",
    "text_file = \"dataset.txt\"\n",
    "train_mode = True        \n",
    "main(depth, train_mode)\n",
    "train_mode = False\n",
    "main(depth, train_mode)"
   ]
  }
 ],
 "metadata": {
  "kernelspec": {
   "display_name": "Python 3",
   "language": "python",
   "name": "python3"
  },
  "language_info": {
   "codemirror_mode": {
    "name": "ipython",
    "version": 3
   },
   "file_extension": ".py",
   "mimetype": "text/x-python",
   "name": "python",
   "nbconvert_exporter": "python",
   "pygments_lexer": "ipython3",
   "version": "3.8.3"
  }
 },
 "nbformat": 4,
 "nbformat_minor": 4
}
